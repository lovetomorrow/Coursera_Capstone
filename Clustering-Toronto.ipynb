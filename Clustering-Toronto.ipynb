{
 "cells": [
  {
   "cell_type": "code",
   "execution_count": 2,
   "metadata": {},
   "outputs": [
    {
     "name": "stdout",
     "output_type": "stream",
     "text": [
      "Collecting folium\n",
      "\u001b[?25l  Downloading https://files.pythonhosted.org/packages/4f/86/1ab30184cb60bc2b95deffe2bd86b8ddbab65a4fac9f7313c278c6e8d049/folium-0.9.1-py2.py3-none-any.whl (91kB)\n",
      "\u001b[K     |████████████████████████████████| 92kB 14.1MB/s eta 0:00:01\n",
      "\u001b[?25hRequirement already satisfied: numpy in /opt/conda/envs/Python36/lib/python3.6/site-packages (from folium) (1.15.4)\n",
      "Collecting branca>=0.3.0 (from folium)\n",
      "  Downloading https://files.pythonhosted.org/packages/63/36/1c93318e9653f4e414a2e0c3b98fc898b4970e939afeedeee6075dd3b703/branca-0.3.1-py3-none-any.whl\n",
      "Requirement already satisfied: jinja2>=2.9 in /opt/conda/envs/Python36/lib/python3.6/site-packages (from folium) (2.10)\n",
      "Requirement already satisfied: requests in /opt/conda/envs/Python36/lib/python3.6/site-packages (from folium) (2.21.0)\n",
      "Requirement already satisfied: six in /opt/conda/envs/Python36/lib/python3.6/site-packages (from branca>=0.3.0->folium) (1.12.0)\n",
      "Requirement already satisfied: MarkupSafe>=0.23 in /opt/conda/envs/Python36/lib/python3.6/site-packages (from jinja2>=2.9->folium) (1.1.0)\n",
      "Requirement already satisfied: urllib3<1.25,>=1.21.1 in /opt/conda/envs/Python36/lib/python3.6/site-packages (from requests->folium) (1.24.1)\n",
      "Requirement already satisfied: certifi>=2017.4.17 in /opt/conda/envs/Python36/lib/python3.6/site-packages (from requests->folium) (2019.6.16)\n",
      "Requirement already satisfied: idna<2.9,>=2.5 in /opt/conda/envs/Python36/lib/python3.6/site-packages (from requests->folium) (2.8)\n",
      "Requirement already satisfied: chardet<3.1.0,>=3.0.2 in /opt/conda/envs/Python36/lib/python3.6/site-packages (from requests->folium) (3.0.4)\n",
      "Installing collected packages: branca, folium\n",
      "Successfully installed branca-0.3.1 folium-0.9.1\n"
     ]
    }
   ],
   "source": [
    "!pip install folium"
   ]
  },
  {
   "cell_type": "markdown",
   "metadata": {},
   "source": [
    "### load libraries"
   ]
  },
  {
   "cell_type": "code",
   "execution_count": 27,
   "metadata": {},
   "outputs": [],
   "source": [
    "from bs4 import BeautifulSoup\n",
    "import requests\n",
    "import re\n",
    "import pandas as pd\n",
    "import numpy as np\n",
    "import matplotlib.cm as cm\n",
    "import matplotlib.colors as colors\n",
    "from sklearn.cluster import KMeans\n",
    "import folium"
   ]
  },
  {
   "cell_type": "markdown",
   "metadata": {},
   "source": [
    "### scraping data"
   ]
  },
  {
   "cell_type": "code",
   "execution_count": 4,
   "metadata": {},
   "outputs": [],
   "source": [
    "def load_page():\n",
    "    page_url = \"https://en.m.wikipedia.org/wiki/List_of_postal_codes_of_Canada:_M\"\n",
    "    rs = requests.get(page_url)\n",
    "    soup = BeautifulSoup(rs.text)\n",
    "    selected = soup.find(class_ = \"wikitable sortable\")\n",
    "    return selected"
   ]
  },
  {
   "cell_type": "markdown",
   "metadata": {},
   "source": [
    "### process dataframe\n",
    " _1. Drop Borough equals Not assigned_<br/>\n",
    " _2. Subsitute for Neighbour Not assigned with its Borough_<br/>\n",
    " _3. Join Neighbour with same Postcode_<br/>"
   ]
  },
  {
   "cell_type": "code",
   "execution_count": 5,
   "metadata": {},
   "outputs": [],
   "source": [
    "def table_to_dataframe(soup):\n",
    "    df = pd.read_html(str(soup))[0]\n",
    "    df = df[df.Borough!='Not assigned']\n",
    "    df.at[df.Neighbourhood=='Not assigned', 'Neighbourhood'] = df.Borough\n",
    "    df = df.groupby(['Postcode','Borough'])['Neighbourhood'].apply(','.join).reset_index()\n",
    "    return df"
   ]
  },
  {
   "cell_type": "markdown",
   "metadata": {},
   "source": [
    "### load dataframe"
   ]
  },
  {
   "cell_type": "code",
   "execution_count": 6,
   "metadata": {},
   "outputs": [
    {
     "data": {
      "text/html": [
       "<div>\n",
       "<style scoped>\n",
       "    .dataframe tbody tr th:only-of-type {\n",
       "        vertical-align: middle;\n",
       "    }\n",
       "\n",
       "    .dataframe tbody tr th {\n",
       "        vertical-align: top;\n",
       "    }\n",
       "\n",
       "    .dataframe thead th {\n",
       "        text-align: right;\n",
       "    }\n",
       "</style>\n",
       "<table border=\"1\" class=\"dataframe\">\n",
       "  <thead>\n",
       "    <tr style=\"text-align: right;\">\n",
       "      <th></th>\n",
       "      <th>Postcode</th>\n",
       "      <th>Borough</th>\n",
       "      <th>Neighbourhood</th>\n",
       "    </tr>\n",
       "  </thead>\n",
       "  <tbody>\n",
       "    <tr>\n",
       "      <th>0</th>\n",
       "      <td>M1B</td>\n",
       "      <td>Scarborough</td>\n",
       "      <td>Rouge,Malvern</td>\n",
       "    </tr>\n",
       "    <tr>\n",
       "      <th>1</th>\n",
       "      <td>M1C</td>\n",
       "      <td>Scarborough</td>\n",
       "      <td>Highland Creek,Rouge Hill,Port Union</td>\n",
       "    </tr>\n",
       "    <tr>\n",
       "      <th>2</th>\n",
       "      <td>M1E</td>\n",
       "      <td>Scarborough</td>\n",
       "      <td>Guildwood,Morningside,West Hill</td>\n",
       "    </tr>\n",
       "    <tr>\n",
       "      <th>3</th>\n",
       "      <td>M1G</td>\n",
       "      <td>Scarborough</td>\n",
       "      <td>Woburn</td>\n",
       "    </tr>\n",
       "    <tr>\n",
       "      <th>4</th>\n",
       "      <td>M1H</td>\n",
       "      <td>Scarborough</td>\n",
       "      <td>Cedarbrae</td>\n",
       "    </tr>\n",
       "  </tbody>\n",
       "</table>\n",
       "</div>"
      ],
      "text/plain": [
       "  Postcode      Borough                         Neighbourhood\n",
       "0      M1B  Scarborough                         Rouge,Malvern\n",
       "1      M1C  Scarborough  Highland Creek,Rouge Hill,Port Union\n",
       "2      M1E  Scarborough       Guildwood,Morningside,West Hill\n",
       "3      M1G  Scarborough                                Woburn\n",
       "4      M1H  Scarborough                             Cedarbrae"
      ]
     },
     "execution_count": 6,
     "metadata": {},
     "output_type": "execute_result"
    }
   ],
   "source": [
    "df_post = table_to_dataframe(load_page())\n",
    "df_post.head()"
   ]
  },
  {
   "cell_type": "markdown",
   "metadata": {},
   "source": [
    "### Load Geopatial data"
   ]
  },
  {
   "cell_type": "code",
   "execution_count": 7,
   "metadata": {},
   "outputs": [],
   "source": [
    "df_geo = pd.read_csv('http://cocl.us/Geospatial_data')\n",
    "df_geo.rename(columns = {'Postal Code':'Postcode'},inplace=True)"
   ]
  },
  {
   "cell_type": "markdown",
   "metadata": {},
   "source": [
    "### Merge data"
   ]
  },
  {
   "cell_type": "code",
   "execution_count": 8,
   "metadata": {},
   "outputs": [],
   "source": [
    "df = df_post.merge(df_geo,on='Postcode')"
   ]
  },
  {
   "cell_type": "markdown",
   "metadata": {},
   "source": [
    "### Filtering Toronto"
   ]
  },
  {
   "cell_type": "code",
   "execution_count": 25,
   "metadata": {},
   "outputs": [
    {
     "data": {
      "text/html": [
       "<div>\n",
       "<style scoped>\n",
       "    .dataframe tbody tr th:only-of-type {\n",
       "        vertical-align: middle;\n",
       "    }\n",
       "\n",
       "    .dataframe tbody tr th {\n",
       "        vertical-align: top;\n",
       "    }\n",
       "\n",
       "    .dataframe thead th {\n",
       "        text-align: right;\n",
       "    }\n",
       "</style>\n",
       "<table border=\"1\" class=\"dataframe\">\n",
       "  <thead>\n",
       "    <tr style=\"text-align: right;\">\n",
       "      <th></th>\n",
       "      <th>Postcode</th>\n",
       "      <th>Borough</th>\n",
       "      <th>Neighbourhood</th>\n",
       "      <th>Latitude</th>\n",
       "      <th>Longitude</th>\n",
       "    </tr>\n",
       "  </thead>\n",
       "  <tbody>\n",
       "    <tr>\n",
       "      <th>37</th>\n",
       "      <td>M4E</td>\n",
       "      <td>East Toronto</td>\n",
       "      <td>The Beaches</td>\n",
       "      <td>43.676357</td>\n",
       "      <td>-79.293031</td>\n",
       "    </tr>\n",
       "    <tr>\n",
       "      <th>41</th>\n",
       "      <td>M4K</td>\n",
       "      <td>East Toronto</td>\n",
       "      <td>The Danforth West,Riverdale</td>\n",
       "      <td>43.679557</td>\n",
       "      <td>-79.352188</td>\n",
       "    </tr>\n",
       "    <tr>\n",
       "      <th>42</th>\n",
       "      <td>M4L</td>\n",
       "      <td>East Toronto</td>\n",
       "      <td>The Beaches West,India Bazaar</td>\n",
       "      <td>43.668999</td>\n",
       "      <td>-79.315572</td>\n",
       "    </tr>\n",
       "    <tr>\n",
       "      <th>43</th>\n",
       "      <td>M4M</td>\n",
       "      <td>East Toronto</td>\n",
       "      <td>Studio District</td>\n",
       "      <td>43.659526</td>\n",
       "      <td>-79.340923</td>\n",
       "    </tr>\n",
       "    <tr>\n",
       "      <th>44</th>\n",
       "      <td>M4N</td>\n",
       "      <td>Central Toronto</td>\n",
       "      <td>Lawrence Park</td>\n",
       "      <td>43.728020</td>\n",
       "      <td>-79.388790</td>\n",
       "    </tr>\n",
       "  </tbody>\n",
       "</table>\n",
       "</div>"
      ],
      "text/plain": [
       "   Postcode          Borough                  Neighbourhood   Latitude  \\\n",
       "37      M4E     East Toronto                    The Beaches  43.676357   \n",
       "41      M4K     East Toronto    The Danforth West,Riverdale  43.679557   \n",
       "42      M4L     East Toronto  The Beaches West,India Bazaar  43.668999   \n",
       "43      M4M     East Toronto                Studio District  43.659526   \n",
       "44      M4N  Central Toronto                  Lawrence Park  43.728020   \n",
       "\n",
       "    Longitude  \n",
       "37 -79.293031  \n",
       "41 -79.352188  \n",
       "42 -79.315572  \n",
       "43 -79.340923  \n",
       "44 -79.388790  "
      ]
     },
     "execution_count": 25,
     "metadata": {},
     "output_type": "execute_result"
    }
   ],
   "source": [
    "df_toronto = df[df.Borough.str.contains('Toronto')]\n",
    "df_toronto.head()"
   ]
  },
  {
   "cell_type": "markdown",
   "metadata": {},
   "source": [
    "### Kmean Clustering"
   ]
  },
  {
   "cell_type": "code",
   "execution_count": 28,
   "metadata": {},
   "outputs": [],
   "source": [
    "def fit_model(k,data):\n",
    "    model = KMeans(n_clusters=k,init='k-means++',random_state=0).fit(data)\n",
    "    return model.labels_"
   ]
  },
  {
   "cell_type": "markdown",
   "metadata": {},
   "source": [
    "### Visulization\n",
    " _1.Use unique borough count in Toronto as the number of clusters_<br/>\n",
    " _2.Use latitude and longitude in the Central Toronto as central point of the Map_<br/> \n",
    " _2.Show clusters on Map_<br/>"
   ]
  },
  {
   "cell_type": "code",
   "execution_count": 37,
   "metadata": {
    "scrolled": true
   },
   "outputs": [
    {
     "data": {
      "text/html": [
       "<div style=\"width:100%;\"><div style=\"position:relative;width:100%;height:0;padding-bottom:60%;\"><iframe src=\"data:text/html;charset=utf-8;base64,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\" style=\"position:absolute;width:100%;height:100%;left:0;top:0;border:none !important;\" allowfullscreen webkitallowfullscreen mozallowfullscreen></iframe></div></div>"
      ],
      "text/plain": [
       "<folium.folium.Map at 0x7f99b85e4400>"
      ]
     },
     "execution_count": 37,
     "metadata": {},
     "output_type": "execute_result"
    }
   ],
   "source": [
    "#Clustering\n",
    "k = df_toronto.Borough.nunique()\n",
    "data = df_toronto[['Latitude','Longitude']]\n",
    "labels = fit_model(k,data)\n",
    "\n",
    "#Define Map central point\n",
    "latitude,longitude = df_toronto[df_toronto.Borough=='Central Toronto'][:1][['Latitude','Longitude']].values[0]\n",
    "\n",
    "#Create Map\n",
    "map_clusters = folium.Map(location=[latitude, longitude], zoom_start=12)\n",
    "\n",
    "#Create Color Palette\n",
    "x = np.arange(k)\n",
    "ys = [i + x + (i*x)**2 for i in range(k)]\n",
    "colors_array = cm.rainbow(np.linspace(0, 1, len(ys)))\n",
    "rainbow = [colors.rgb2hex(i) for i in colors_array]\n",
    "\n",
    "#Add Markers with cluster labels\n",
    "for lat, lon, post, neigh, cluster in zip(df_toronto['Latitude'], df_toronto['Longitude'], df_toronto['Postcode'],df_toronto['Neighbourhood'], labels):\n",
    "    folium.CircleMarker(\n",
    "        [lat, lon],\n",
    "        radius=5,\n",
    "        popup=folium.Popup(str(post) + ' ' + str(neigh), parse_html=True),\n",
    "        color=rainbow[cluster-1],\n",
    "        fill=True,\n",
    "        fill_color=rainbow[cluster-1],\n",
    "        fill_opacity=0.7).add_to(map_clusters)\n",
    "    \n",
    "#Show map\n",
    "map_clusters"
   ]
  },
  {
   "cell_type": "code",
   "execution_count": null,
   "metadata": {},
   "outputs": [],
   "source": []
  }
 ],
 "metadata": {
  "kernelspec": {
   "display_name": "Python 3.6",
   "language": "python",
   "name": "python3"
  },
  "language_info": {
   "codemirror_mode": {
    "name": "ipython",
    "version": 3
   },
   "file_extension": ".py",
   "mimetype": "text/x-python",
   "name": "python",
   "nbconvert_exporter": "python",
   "pygments_lexer": "ipython3",
   "version": "3.6.8"
  }
 },
 "nbformat": 4,
 "nbformat_minor": 1
}
