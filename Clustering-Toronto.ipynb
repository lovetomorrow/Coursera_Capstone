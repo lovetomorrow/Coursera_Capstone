{
 "cells": [
  {
   "cell_type": "code",
   "execution_count": 2,
   "metadata": {},
   "outputs": [
    {
     "name": "stdout",
     "output_type": "stream",
     "text": [
      "Collecting folium\n",
      "\u001b[?25l  Downloading https://files.pythonhosted.org/packages/4f/86/1ab30184cb60bc2b95deffe2bd86b8ddbab65a4fac9f7313c278c6e8d049/folium-0.9.1-py2.py3-none-any.whl (91kB)\n",
      "\u001b[K     |████████████████████████████████| 92kB 14.1MB/s eta 0:00:01\n",
      "\u001b[?25hRequirement already satisfied: numpy in /opt/conda/envs/Python36/lib/python3.6/site-packages (from folium) (1.15.4)\n",
      "Collecting branca>=0.3.0 (from folium)\n",
      "  Downloading https://files.pythonhosted.org/packages/63/36/1c93318e9653f4e414a2e0c3b98fc898b4970e939afeedeee6075dd3b703/branca-0.3.1-py3-none-any.whl\n",
      "Requirement already satisfied: jinja2>=2.9 in /opt/conda/envs/Python36/lib/python3.6/site-packages (from folium) (2.10)\n",
      "Requirement already satisfied: requests in /opt/conda/envs/Python36/lib/python3.6/site-packages (from folium) (2.21.0)\n",
      "Requirement already satisfied: six in /opt/conda/envs/Python36/lib/python3.6/site-packages (from branca>=0.3.0->folium) (1.12.0)\n",
      "Requirement already satisfied: MarkupSafe>=0.23 in /opt/conda/envs/Python36/lib/python3.6/site-packages (from jinja2>=2.9->folium) (1.1.0)\n",
      "Requirement already satisfied: urllib3<1.25,>=1.21.1 in /opt/conda/envs/Python36/lib/python3.6/site-packages (from requests->folium) (1.24.1)\n",
      "Requirement already satisfied: certifi>=2017.4.17 in /opt/conda/envs/Python36/lib/python3.6/site-packages (from requests->folium) (2019.6.16)\n",
      "Requirement already satisfied: idna<2.9,>=2.5 in /opt/conda/envs/Python36/lib/python3.6/site-packages (from requests->folium) (2.8)\n",
      "Requirement already satisfied: chardet<3.1.0,>=3.0.2 in /opt/conda/envs/Python36/lib/python3.6/site-packages (from requests->folium) (3.0.4)\n",
      "Installing collected packages: branca, folium\n",
      "Successfully installed branca-0.3.1 folium-0.9.1\n"
     ]
    }
   ],
   "source": [
    "!pip install folium"
   ]
  },
  {
   "cell_type": "markdown",
   "metadata": {},
   "source": [
    "### load libraries"
   ]
  },
  {
   "cell_type": "code",
   "execution_count": 1,
   "metadata": {},
   "outputs": [],
   "source": [
    "from bs4 import BeautifulSoup\n",
    "import requests\n",
    "import re\n",
    "import pandas as pd\n",
    "import numpy as np\n",
    "import matplotlib.cm as cm\n",
    "import matplotlib.colors as colors\n",
    "from sklearn.cluster import KMeans\n",
    "import folium"
   ]
  },
  {
   "cell_type": "markdown",
   "metadata": {},
   "source": [
    "### scraping data"
   ]
  },
  {
   "cell_type": "code",
   "execution_count": 2,
   "metadata": {},
   "outputs": [],
   "source": [
    "def load_page():\n",
    "    page_url = \"https://en.m.wikipedia.org/wiki/List_of_postal_codes_of_Canada:_M\"\n",
    "    rs = requests.get(page_url)\n",
    "    soup = BeautifulSoup(rs.text)\n",
    "    selected = soup.find(class_ = \"wikitable sortable\")\n",
    "    return selected"
   ]
  },
  {
   "cell_type": "markdown",
   "metadata": {},
   "source": [
    "### process dataframe\n",
    " _1. Drop Borough equals Not assigned_<br/>\n",
    " _2. Subsitute for Neighbour Not assigned with its Borough_<br/>\n",
    " _3. Join Neighbour with same Postcode_<br/>"
   ]
  },
  {
   "cell_type": "code",
   "execution_count": 3,
   "metadata": {},
   "outputs": [],
   "source": [
    "def table_to_dataframe(soup):\n",
    "    df = pd.read_html(str(soup))[0]\n",
    "    df = df[df.Borough!='Not assigned']\n",
    "    df.at[df.Neighbourhood=='Not assigned', 'Neighbourhood'] = df.Borough\n",
    "    df = df.groupby(['Postcode','Borough'])['Neighbourhood'].apply(','.join).reset_index()\n",
    "    return df"
   ]
  },
  {
   "cell_type": "markdown",
   "metadata": {},
   "source": [
    "### load dataframe"
   ]
  },
  {
   "cell_type": "code",
   "execution_count": 4,
   "metadata": {},
   "outputs": [
    {
     "data": {
      "text/html": [
       "<div>\n",
       "<style scoped>\n",
       "    .dataframe tbody tr th:only-of-type {\n",
       "        vertical-align: middle;\n",
       "    }\n",
       "\n",
       "    .dataframe tbody tr th {\n",
       "        vertical-align: top;\n",
       "    }\n",
       "\n",
       "    .dataframe thead th {\n",
       "        text-align: right;\n",
       "    }\n",
       "</style>\n",
       "<table border=\"1\" class=\"dataframe\">\n",
       "  <thead>\n",
       "    <tr style=\"text-align: right;\">\n",
       "      <th></th>\n",
       "      <th>Postcode</th>\n",
       "      <th>Borough</th>\n",
       "      <th>Neighbourhood</th>\n",
       "    </tr>\n",
       "  </thead>\n",
       "  <tbody>\n",
       "    <tr>\n",
       "      <th>0</th>\n",
       "      <td>M1B</td>\n",
       "      <td>Scarborough</td>\n",
       "      <td>Rouge,Malvern</td>\n",
       "    </tr>\n",
       "    <tr>\n",
       "      <th>1</th>\n",
       "      <td>M1C</td>\n",
       "      <td>Scarborough</td>\n",
       "      <td>Highland Creek,Rouge Hill,Port Union</td>\n",
       "    </tr>\n",
       "    <tr>\n",
       "      <th>2</th>\n",
       "      <td>M1E</td>\n",
       "      <td>Scarborough</td>\n",
       "      <td>Guildwood,Morningside,West Hill</td>\n",
       "    </tr>\n",
       "    <tr>\n",
       "      <th>3</th>\n",
       "      <td>M1G</td>\n",
       "      <td>Scarborough</td>\n",
       "      <td>Woburn</td>\n",
       "    </tr>\n",
       "    <tr>\n",
       "      <th>4</th>\n",
       "      <td>M1H</td>\n",
       "      <td>Scarborough</td>\n",
       "      <td>Cedarbrae</td>\n",
       "    </tr>\n",
       "  </tbody>\n",
       "</table>\n",
       "</div>"
      ],
      "text/plain": [
       "  Postcode      Borough                         Neighbourhood\n",
       "0      M1B  Scarborough                         Rouge,Malvern\n",
       "1      M1C  Scarborough  Highland Creek,Rouge Hill,Port Union\n",
       "2      M1E  Scarborough       Guildwood,Morningside,West Hill\n",
       "3      M1G  Scarborough                                Woburn\n",
       "4      M1H  Scarborough                             Cedarbrae"
      ]
     },
     "execution_count": 4,
     "metadata": {},
     "output_type": "execute_result"
    }
   ],
   "source": [
    "df_post = table_to_dataframe(load_page())\n",
    "df_post.head()"
   ]
  },
  {
   "cell_type": "markdown",
   "metadata": {},
   "source": [
    "### Load Geopatial data"
   ]
  },
  {
   "cell_type": "code",
   "execution_count": 5,
   "metadata": {},
   "outputs": [],
   "source": [
    "df_geo = pd.read_csv('http://cocl.us/Geospatial_data')\n",
    "df_geo.rename(columns = {'Postal Code':'Postcode'},inplace=True)"
   ]
  },
  {
   "cell_type": "markdown",
   "metadata": {},
   "source": [
    "### Merge data"
   ]
  },
  {
   "cell_type": "code",
   "execution_count": 6,
   "metadata": {},
   "outputs": [],
   "source": [
    "df = df_post.merge(df_geo,on='Postcode')"
   ]
  },
  {
   "cell_type": "markdown",
   "metadata": {},
   "source": [
    "### Filtering Toronto"
   ]
  },
  {
   "cell_type": "code",
   "execution_count": 7,
   "metadata": {},
   "outputs": [
    {
     "data": {
      "text/html": [
       "<div>\n",
       "<style scoped>\n",
       "    .dataframe tbody tr th:only-of-type {\n",
       "        vertical-align: middle;\n",
       "    }\n",
       "\n",
       "    .dataframe tbody tr th {\n",
       "        vertical-align: top;\n",
       "    }\n",
       "\n",
       "    .dataframe thead th {\n",
       "        text-align: right;\n",
       "    }\n",
       "</style>\n",
       "<table border=\"1\" class=\"dataframe\">\n",
       "  <thead>\n",
       "    <tr style=\"text-align: right;\">\n",
       "      <th></th>\n",
       "      <th>Postcode</th>\n",
       "      <th>Borough</th>\n",
       "      <th>Neighbourhood</th>\n",
       "      <th>Latitude</th>\n",
       "      <th>Longitude</th>\n",
       "    </tr>\n",
       "  </thead>\n",
       "  <tbody>\n",
       "    <tr>\n",
       "      <th>37</th>\n",
       "      <td>M4E</td>\n",
       "      <td>East Toronto</td>\n",
       "      <td>The Beaches</td>\n",
       "      <td>43.676357</td>\n",
       "      <td>-79.293031</td>\n",
       "    </tr>\n",
       "    <tr>\n",
       "      <th>41</th>\n",
       "      <td>M4K</td>\n",
       "      <td>East Toronto</td>\n",
       "      <td>The Danforth West,Riverdale</td>\n",
       "      <td>43.679557</td>\n",
       "      <td>-79.352188</td>\n",
       "    </tr>\n",
       "    <tr>\n",
       "      <th>42</th>\n",
       "      <td>M4L</td>\n",
       "      <td>East Toronto</td>\n",
       "      <td>The Beaches West,India Bazaar</td>\n",
       "      <td>43.668999</td>\n",
       "      <td>-79.315572</td>\n",
       "    </tr>\n",
       "    <tr>\n",
       "      <th>43</th>\n",
       "      <td>M4M</td>\n",
       "      <td>East Toronto</td>\n",
       "      <td>Studio District</td>\n",
       "      <td>43.659526</td>\n",
       "      <td>-79.340923</td>\n",
       "    </tr>\n",
       "    <tr>\n",
       "      <th>44</th>\n",
       "      <td>M4N</td>\n",
       "      <td>Central Toronto</td>\n",
       "      <td>Lawrence Park</td>\n",
       "      <td>43.728020</td>\n",
       "      <td>-79.388790</td>\n",
       "    </tr>\n",
       "  </tbody>\n",
       "</table>\n",
       "</div>"
      ],
      "text/plain": [
       "   Postcode          Borough                  Neighbourhood   Latitude  \\\n",
       "37      M4E     East Toronto                    The Beaches  43.676357   \n",
       "41      M4K     East Toronto    The Danforth West,Riverdale  43.679557   \n",
       "42      M4L     East Toronto  The Beaches West,India Bazaar  43.668999   \n",
       "43      M4M     East Toronto                Studio District  43.659526   \n",
       "44      M4N  Central Toronto                  Lawrence Park  43.728020   \n",
       "\n",
       "    Longitude  \n",
       "37 -79.293031  \n",
       "41 -79.352188  \n",
       "42 -79.315572  \n",
       "43 -79.340923  \n",
       "44 -79.388790  "
      ]
     },
     "execution_count": 7,
     "metadata": {},
     "output_type": "execute_result"
    }
   ],
   "source": [
    "df_toronto = df[df.Borough.str.contains('Toronto')]\n",
    "df_toronto.head()"
   ]
  },
  {
   "cell_type": "markdown",
   "metadata": {},
   "source": [
    "### Kmean Clustering"
   ]
  },
  {
   "cell_type": "code",
   "execution_count": 8,
   "metadata": {},
   "outputs": [],
   "source": [
    "def fit_model(k,data):\n",
    "    model = KMeans(n_clusters=k,init='k-means++',random_state=0).fit(data)\n",
    "    return model.labels_"
   ]
  },
  {
   "cell_type": "markdown",
   "metadata": {},
   "source": [
    "### Visulization\n",
    " _1.Use unique borough count in Toronto as the number of clusters_<br/>\n",
    " _2.Use latitude and longitude in the Central Toronto as central point of the Map_<br/> \n",
    " _2.Show clusters on Map_<br/>"
   ]
  },
  {
   "cell_type": "code",
   "execution_count": 12,
   "metadata": {
    "scrolled": true
   },
   "outputs": [
    {
     "name": "stderr",
     "output_type": "stream",
     "text": [
      "/opt/conda/envs/Python36/lib/python3.6/site-packages/ipykernel/__main__.py:5: SettingWithCopyWarning: \n",
      "A value is trying to be set on a copy of a slice from a DataFrame.\n",
      "Try using .loc[row_indexer,col_indexer] = value instead\n",
      "\n",
      "See the caveats in the documentation: http://pandas.pydata.org/pandas-docs/stable/indexing.html#indexing-view-versus-copy\n"
     ]
    },
    {
     "data": {
      "text/html": [
       "<div style=\"width:100%;\"><div style=\"position:relative;width:100%;height:0;padding-bottom:60%;\"><iframe src=\"data:text/html;charset=utf-8;base64,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\" style=\"position:absolute;width:100%;height:100%;left:0;top:0;border:none !important;\" allowfullscreen webkitallowfullscreen mozallowfullscreen></iframe></div></div>"
      ],
      "text/plain": [
       "<folium.folium.Map at 0x7fe4aeeb1898>"
      ]
     },
     "execution_count": 12,
     "metadata": {},
     "output_type": "execute_result"
    }
   ],
   "source": [
    "#Clustering\n",
    "k = df_toronto.Borough.nunique()\n",
    "data = df_toronto[['Latitude','Longitude']]\n",
    "labels = fit_model(k,data)\n",
    "df_toronto['Label'] = labels\n",
    "#Define Map central point\n",
    "latitude,longitude = df_toronto[df_toronto.Borough=='Central Toronto'][['Latitude','Longitude']].values[0]\n",
    "\n",
    "#Create Map\n",
    "map_clusters = folium.Map(location=[latitude, longitude], zoom_start=12)\n",
    "\n",
    "#Create Color Palette\n",
    "x = np.arange(k)\n",
    "ys = [i + x + (i*x)**2 for i in range(k)]\n",
    "colors_array = cm.rainbow(np.linspace(0, 1, len(ys)))\n",
    "rainbow = [colors.rgb2hex(i) for i in colors_array]\n",
    "\n",
    "#Add Markers with cluster labels\n",
    "for lat, lon, post, neigh, cluster in zip(df_toronto['Latitude'], df_toronto['Longitude'], df_toronto['Postcode'],df_toronto['Neighbourhood'], df_toronto['Label']):\n",
    "    folium.CircleMarker(\n",
    "        [lat, lon],\n",
    "        radius=5,\n",
    "        popup=folium.Popup(str(post) + ' ' + str(neigh), parse_html=True),\n",
    "        color=rainbow[cluster-1],\n",
    "        fill=True,\n",
    "        fill_color=rainbow[cluster-1],\n",
    "        fill_opacity=0.7).add_to(map_clusters)\n",
    "    \n",
    "#Show map\n",
    "map_clusters"
   ]
  },
  {
   "cell_type": "markdown",
   "metadata": {},
   "source": [
    "### Examine"
   ]
  },
  {
   "cell_type": "code",
   "execution_count": 27,
   "metadata": {},
   "outputs": [
    {
     "data": {
      "text/plain": [
       "Borough           Label\n",
       "Central Toronto   2         8\n",
       "                  1         1\n",
       "Downtown Toronto  1        17\n",
       "                  3         1\n",
       "East Toronto      0         5\n",
       "West Toronto      3         6\n",
       "Name: Label, dtype: int64"
      ]
     },
     "execution_count": 27,
     "metadata": {},
     "output_type": "execute_result"
    }
   ],
   "source": [
    "df_toronto[['Borough','Label']].groupby(['Borough']).Label.value_counts()"
   ]
  },
  {
   "cell_type": "markdown",
   "metadata": {},
   "source": [
    "### The assignment of postal code was based on it's geographic position. Through kmean clustering we can find that the majority of labels match the related postal codes, and only few points in the middle of two boroughs were mislabeled."
   ]
  }
 ],
 "metadata": {
  "kernelspec": {
   "display_name": "Python 3.6",
   "language": "python",
   "name": "python3"
  },
  "language_info": {
   "codemirror_mode": {
    "name": "ipython",
    "version": 3
   },
   "file_extension": ".py",
   "mimetype": "text/x-python",
   "name": "python",
   "nbconvert_exporter": "python",
   "pygments_lexer": "ipython3",
   "version": "3.6.8"
  }
 },
 "nbformat": 4,
 "nbformat_minor": 1
}
